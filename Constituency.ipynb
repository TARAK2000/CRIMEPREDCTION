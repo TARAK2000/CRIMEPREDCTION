{
 "cells": [
  {
   "cell_type": "code",
   "execution_count": 1,
   "id": "363e0d43",
   "metadata": {},
   "outputs": [],
   "source": [
    "# Importing all the required packages.\n",
    "\n",
    "import numpy as np\n",
    "import pandas as pd\n",
    "import matplotlib.pyplot as plt\n",
    "import warnings\n",
    "warnings.filterwarnings(action = 'ignore')\n",
    "from sklearn.metrics import accuracy_score\n",
    "from sklearn.metrics import classification_report"
   ]
  },
  {
   "cell_type": "code",
   "execution_count": 2,
   "id": "8c75cbbe",
   "metadata": {
    "scrolled": true
   },
   "outputs": [
    {
     "data": {
      "text/html": [
       "<div>\n",
       "<style scoped>\n",
       "    .dataframe tbody tr th:only-of-type {\n",
       "        vertical-align: middle;\n",
       "    }\n",
       "\n",
       "    .dataframe tbody tr th {\n",
       "        vertical-align: top;\n",
       "    }\n",
       "\n",
       "    .dataframe thead th {\n",
       "        text-align: right;\n",
       "    }\n",
       "</style>\n",
       "<table border=\"1\" class=\"dataframe\">\n",
       "  <thead>\n",
       "    <tr style=\"text-align: right;\">\n",
       "      <th></th>\n",
       "      <th>States/UTs</th>\n",
       "      <th>District</th>\n",
       "      <th>Constituency</th>\n",
       "      <th>Year</th>\n",
       "      <th>Murder</th>\n",
       "      <th>Culpable Homicide</th>\n",
       "      <th>Rape</th>\n",
       "      <th>Kidnapping &amp; Abduction</th>\n",
       "      <th>Dacoity</th>\n",
       "      <th>Robbery</th>\n",
       "      <th>...</th>\n",
       "      <th>Incidence of Rash Driving</th>\n",
       "      <th>HumanTrafficking</th>\n",
       "      <th>Unnatural Offence</th>\n",
       "      <th>Other IPC crimes</th>\n",
       "      <th>Total crimes against SCs</th>\n",
       "      <th>Voyeurism</th>\n",
       "      <th>Stalking</th>\n",
       "      <th>Abetment of Suicides of Women</th>\n",
       "      <th>Immoral Traffic Prevention Act</th>\n",
       "      <th>Total_Count</th>\n",
       "    </tr>\n",
       "  </thead>\n",
       "  <tbody>\n",
       "    <tr>\n",
       "      <th>0</th>\n",
       "      <td>Andhra Pradesh</td>\n",
       "      <td>Srikakulam</td>\n",
       "      <td>Ichchapuram</td>\n",
       "      <td>2019</td>\n",
       "      <td>37</td>\n",
       "      <td>2</td>\n",
       "      <td>12</td>\n",
       "      <td>20</td>\n",
       "      <td>0</td>\n",
       "      <td>11</td>\n",
       "      <td>...</td>\n",
       "      <td>3</td>\n",
       "      <td>1</td>\n",
       "      <td>0</td>\n",
       "      <td>56</td>\n",
       "      <td>14</td>\n",
       "      <td>0</td>\n",
       "      <td>6</td>\n",
       "      <td>2</td>\n",
       "      <td>0</td>\n",
       "      <td>324</td>\n",
       "    </tr>\n",
       "    <tr>\n",
       "      <th>1</th>\n",
       "      <td>Andhra Pradesh</td>\n",
       "      <td>Srikakulam</td>\n",
       "      <td>Palasa</td>\n",
       "      <td>2019</td>\n",
       "      <td>42</td>\n",
       "      <td>6</td>\n",
       "      <td>19</td>\n",
       "      <td>23</td>\n",
       "      <td>3</td>\n",
       "      <td>16</td>\n",
       "      <td>...</td>\n",
       "      <td>4</td>\n",
       "      <td>2</td>\n",
       "      <td>0</td>\n",
       "      <td>68</td>\n",
       "      <td>35</td>\n",
       "      <td>1</td>\n",
       "      <td>9</td>\n",
       "      <td>6</td>\n",
       "      <td>3</td>\n",
       "      <td>401</td>\n",
       "    </tr>\n",
       "    <tr>\n",
       "      <th>2</th>\n",
       "      <td>Andhra Pradesh</td>\n",
       "      <td>Srikakulam</td>\n",
       "      <td>Tekkali</td>\n",
       "      <td>2019</td>\n",
       "      <td>13</td>\n",
       "      <td>0</td>\n",
       "      <td>7</td>\n",
       "      <td>5</td>\n",
       "      <td>0</td>\n",
       "      <td>3</td>\n",
       "      <td>...</td>\n",
       "      <td>9</td>\n",
       "      <td>0</td>\n",
       "      <td>1</td>\n",
       "      <td>42</td>\n",
       "      <td>29</td>\n",
       "      <td>4</td>\n",
       "      <td>0</td>\n",
       "      <td>0</td>\n",
       "      <td>1</td>\n",
       "      <td>329</td>\n",
       "    </tr>\n",
       "    <tr>\n",
       "      <th>3</th>\n",
       "      <td>Andhra Pradesh</td>\n",
       "      <td>Srikakulam</td>\n",
       "      <td>Pathapatnam</td>\n",
       "      <td>2019</td>\n",
       "      <td>8</td>\n",
       "      <td>1</td>\n",
       "      <td>3</td>\n",
       "      <td>3</td>\n",
       "      <td>0</td>\n",
       "      <td>2</td>\n",
       "      <td>...</td>\n",
       "      <td>2</td>\n",
       "      <td>0</td>\n",
       "      <td>0</td>\n",
       "      <td>15</td>\n",
       "      <td>10</td>\n",
       "      <td>0</td>\n",
       "      <td>0</td>\n",
       "      <td>0</td>\n",
       "      <td>0</td>\n",
       "      <td>99</td>\n",
       "    </tr>\n",
       "    <tr>\n",
       "      <th>4</th>\n",
       "      <td>Andhra Pradesh</td>\n",
       "      <td>Srikakulam</td>\n",
       "      <td>Srikakulam</td>\n",
       "      <td>2019</td>\n",
       "      <td>53</td>\n",
       "      <td>8</td>\n",
       "      <td>22</td>\n",
       "      <td>28</td>\n",
       "      <td>4</td>\n",
       "      <td>33</td>\n",
       "      <td>...</td>\n",
       "      <td>11</td>\n",
       "      <td>5</td>\n",
       "      <td>4</td>\n",
       "      <td>77</td>\n",
       "      <td>44</td>\n",
       "      <td>7</td>\n",
       "      <td>11</td>\n",
       "      <td>7</td>\n",
       "      <td>6</td>\n",
       "      <td>593</td>\n",
       "    </tr>\n",
       "  </tbody>\n",
       "</table>\n",
       "<p>5 rows × 36 columns</p>\n",
       "</div>"
      ],
      "text/plain": [
       "       States/UTs    District Constituency  Year  Murder  Culpable Homicide  \\\n",
       "0  Andhra Pradesh  Srikakulam  Ichchapuram  2019      37                  2   \n",
       "1  Andhra Pradesh  Srikakulam       Palasa  2019      42                  6   \n",
       "2  Andhra Pradesh  Srikakulam      Tekkali  2019      13                  0   \n",
       "3  Andhra Pradesh  Srikakulam  Pathapatnam  2019       8                  1   \n",
       "4  Andhra Pradesh  Srikakulam   Srikakulam  2019      53                  8   \n",
       "\n",
       "   Rape  Kidnapping & Abduction  Dacoity  Robbery  ...  \\\n",
       "0    12                      20        0       11  ...   \n",
       "1    19                      23        3       16  ...   \n",
       "2     7                       5        0        3  ...   \n",
       "3     3                       3        0        2  ...   \n",
       "4    22                      28        4       33  ...   \n",
       "\n",
       "   Incidence of Rash Driving  HumanTrafficking  Unnatural Offence  \\\n",
       "0                          3                 1                  0   \n",
       "1                          4                 2                  0   \n",
       "2                          9                 0                  1   \n",
       "3                          2                 0                  0   \n",
       "4                         11                 5                  4   \n",
       "\n",
       "   Other IPC crimes  Total crimes against SCs  Voyeurism  Stalking  \\\n",
       "0                56                        14          0         6   \n",
       "1                68                        35          1         9   \n",
       "2                42                        29          4         0   \n",
       "3                15                        10          0         0   \n",
       "4                77                        44          7        11   \n",
       "\n",
       "   Abetment of Suicides of Women  Immoral Traffic Prevention Act  Total_Count  \n",
       "0                              2                               0          324  \n",
       "1                              6                               3          401  \n",
       "2                              0                               1          329  \n",
       "3                              0                               0           99  \n",
       "4                              7                               6          593  \n",
       "\n",
       "[5 rows x 36 columns]"
      ]
     },
     "execution_count": 2,
     "metadata": {},
     "output_type": "execute_result"
    }
   ],
   "source": [
    "# After collecting the dataset,the next step is to read the dataset using pd.read_csv function and store it in dataset variable.\n",
    "dataset = pd.read_csv(\"dataset_hack4good.csv\")\n",
    "dataset.head()"
   ]
  },
  {
   "cell_type": "code",
   "execution_count": 3,
   "id": "1068a292",
   "metadata": {},
   "outputs": [
    {
     "data": {
      "text/plain": [
       "array([4127, 4127, 4127, 4127, 4074, 4014, 4087, 4052, 3988, 4024, 4018,\n",
       "       4039, 3939, 4032, 3923, 3961, 3973, 3877, 3853, 4033, 3861, 3964,\n",
       "       4052, 3952, 3966, 3888, 3941, 3888, 3852, 4091, 3965, 3907, 3875,\n",
       "       3897, 3879, 4127], dtype=int64)"
      ]
     },
     "execution_count": 3,
     "metadata": {},
     "output_type": "execute_result"
    }
   ],
   "source": [
    "# The next step is to preprocess the data. Since none of the columns has more than 90% of zeros, we can proceed further.\n",
    "np.count_nonzero(dataset,axis=0)"
   ]
  },
  {
   "cell_type": "code",
   "execution_count": 4,
   "id": "2b57e149",
   "metadata": {},
   "outputs": [
    {
     "data": {
      "text/plain": [
       "Index(['States/UTs', 'District', 'Constituency', 'Year', 'Murder',\n",
       "       'Culpable Homicide', 'Rape', 'Kidnapping & Abduction', 'Dacoity',\n",
       "       'Robbery', 'Criminal Trespass/Burglary', 'Theft', 'Unlawful Assembly',\n",
       "       'Riots', 'Criminal Breach of Trust', 'Cheating', 'Forgery',\n",
       "       'Counterfeiting', 'Arson', 'Grievous Hurt', 'Acid attack',\n",
       "       'Dowry Deaths', 'Sexual Harassment', 'Cruelty',\n",
       "       'Causing Death by Negligence', 'Extortion', 'Incidence of Rash Driving',\n",
       "       'HumanTrafficking', 'Unnatural Offence', 'Other IPC crimes',\n",
       "       'Total crimes against SCs', 'Voyeurism', 'Stalking',\n",
       "       'Abetment of Suicides of Women', 'Immoral Traffic Prevention Act',\n",
       "       'Total_Count'],\n",
       "      dtype='object')"
      ]
     },
     "execution_count": 4,
     "metadata": {},
     "output_type": "execute_result"
    }
   ],
   "source": [
    "dataset.columns"
   ]
  },
  {
   "cell_type": "code",
   "execution_count": 5,
   "id": "dd002dbd",
   "metadata": {},
   "outputs": [],
   "source": [
    "data = dataset"
   ]
  },
  {
   "cell_type": "code",
   "execution_count": 6,
   "id": "dc6acddf",
   "metadata": {},
   "outputs": [
    {
     "data": {
      "text/plain": [
       "731.8158468621275"
      ]
     },
     "execution_count": 6,
     "metadata": {},
     "output_type": "execute_result"
    }
   ],
   "source": [
    "# Finding the average value of the total count column which contains the sum of all the crimes in a constituency.\n",
    "dataset['Total_Count'].mean()"
   ]
  },
  {
   "cell_type": "code",
   "execution_count": 7,
   "id": "4c6a6abb",
   "metadata": {},
   "outputs": [
    {
     "data": {
      "text/plain": [
       "739.0"
      ]
     },
     "execution_count": 7,
     "metadata": {},
     "output_type": "execute_result"
    }
   ],
   "source": [
    "# Finding the median value of the total count column.\n",
    "dataset['Total_Count'].median()"
   ]
  },
  {
   "cell_type": "code",
   "execution_count": 8,
   "id": "08ee20c7",
   "metadata": {},
   "outputs": [
    {
     "data": {
      "image/png": "[encoded data removed]",
      "text/plain": [
       "<Figure size 432x288 with 1 Axes>"
      ]
     },
     "metadata": {
      "needs_background": "light"
     },
     "output_type": "display_data"
    }
   ],
   "source": [
    "# With the help of the boxplot graph, we can find the values of 25%,75%,outliers,etc.\n",
    "plt.boxplot(dataset['Total_Count'],showmeans=True);"
   ]
  },
  {
   "cell_type": "code",
   "execution_count": 9,
   "id": "6121d539",
   "metadata": {},
   "outputs": [],
   "source": [
    "# Defining a function that classifies the total crime count into 3 categories namely \"High crime prone area\"\n",
    "# (total_count value>=800), \"Moderate crime prone area\" (total_count value in the range of 351-799) and \"Less crime prone area\"\n",
    "# (total_count value<=350).\n",
    "def fun(val):\n",
    "    if val>=800:\n",
    "        val = \"High Crime Prone Area\"\n",
    "    elif val<=350:\n",
    "        val=\"Less Crime Prone Area\"\n",
    "    else:\n",
    "        val=\"Moderate Crime Prone Area\"\n",
    "    return val"
   ]
  },
  {
   "cell_type": "code",
   "execution_count": 10,
   "id": "baf62ddc",
   "metadata": {},
   "outputs": [],
   "source": [
    "dataset['Result_Threshold'] = dataset['Total_Count'].apply(fun)"
   ]
  },
  {
   "cell_type": "code",
   "execution_count": 11,
   "id": "6ce41953",
   "metadata": {},
   "outputs": [
    {
     "data": {
      "text/html": [
       "<div>\n",
       "<style scoped>\n",
       "    .dataframe tbody tr th:only-of-type {\n",
       "        vertical-align: middle;\n",
       "    }\n",
       "\n",
       "    .dataframe tbody tr th {\n",
       "        vertical-align: top;\n",
       "    }\n",
       "\n",
       "    .dataframe thead th {\n",
       "        text-align: right;\n",
       "    }\n",
       "</style>\n",
       "<table border=\"1\" class=\"dataframe\">\n",
       "  <thead>\n",
       "    <tr style=\"text-align: right;\">\n",
       "      <th></th>\n",
       "      <th>States/UTs</th>\n",
       "      <th>District</th>\n",
       "      <th>Constituency</th>\n",
       "      <th>Year</th>\n",
       "      <th>Murder</th>\n",
       "      <th>Culpable Homicide</th>\n",
       "      <th>Rape</th>\n",
       "      <th>Kidnapping &amp; Abduction</th>\n",
       "      <th>Dacoity</th>\n",
       "      <th>Robbery</th>\n",
       "      <th>...</th>\n",
       "      <th>HumanTrafficking</th>\n",
       "      <th>Unnatural Offence</th>\n",
       "      <th>Other IPC crimes</th>\n",
       "      <th>Total crimes against SCs</th>\n",
       "      <th>Voyeurism</th>\n",
       "      <th>Stalking</th>\n",
       "      <th>Abetment of Suicides of Women</th>\n",
       "      <th>Immoral Traffic Prevention Act</th>\n",
       "      <th>Total_Count</th>\n",
       "      <th>Result_Threshold</th>\n",
       "    </tr>\n",
       "  </thead>\n",
       "  <tbody>\n",
       "    <tr>\n",
       "      <th>0</th>\n",
       "      <td>Andhra Pradesh</td>\n",
       "      <td>Srikakulam</td>\n",
       "      <td>Ichchapuram</td>\n",
       "      <td>2019</td>\n",
       "      <td>37</td>\n",
       "      <td>2</td>\n",
       "      <td>12</td>\n",
       "      <td>20</td>\n",
       "      <td>0</td>\n",
       "      <td>11</td>\n",
       "      <td>...</td>\n",
       "      <td>1</td>\n",
       "      <td>0</td>\n",
       "      <td>56</td>\n",
       "      <td>14</td>\n",
       "      <td>0</td>\n",
       "      <td>6</td>\n",
       "      <td>2</td>\n",
       "      <td>0</td>\n",
       "      <td>324</td>\n",
       "      <td>Less Crime Prone Area</td>\n",
       "    </tr>\n",
       "    <tr>\n",
       "      <th>1</th>\n",
       "      <td>Andhra Pradesh</td>\n",
       "      <td>Srikakulam</td>\n",
       "      <td>Palasa</td>\n",
       "      <td>2019</td>\n",
       "      <td>42</td>\n",
       "      <td>6</td>\n",
       "      <td>19</td>\n",
       "      <td>23</td>\n",
       "      <td>3</td>\n",
       "      <td>16</td>\n",
       "      <td>...</td>\n",
       "      <td>2</td>\n",
       "      <td>0</td>\n",
       "      <td>68</td>\n",
       "      <td>35</td>\n",
       "      <td>1</td>\n",
       "      <td>9</td>\n",
       "      <td>6</td>\n",
       "      <td>3</td>\n",
       "      <td>401</td>\n",
       "      <td>Moderate Crime Prone Area</td>\n",
       "    </tr>\n",
       "    <tr>\n",
       "      <th>2</th>\n",
       "      <td>Andhra Pradesh</td>\n",
       "      <td>Srikakulam</td>\n",
       "      <td>Tekkali</td>\n",
       "      <td>2019</td>\n",
       "      <td>13</td>\n",
       "      <td>0</td>\n",
       "      <td>7</td>\n",
       "      <td>5</td>\n",
       "      <td>0</td>\n",
       "      <td>3</td>\n",
       "      <td>...</td>\n",
       "      <td>0</td>\n",
       "      <td>1</td>\n",
       "      <td>42</td>\n",
       "      <td>29</td>\n",
       "      <td>4</td>\n",
       "      <td>0</td>\n",
       "      <td>0</td>\n",
       "      <td>1</td>\n",
       "      <td>329</td>\n",
       "      <td>Less Crime Prone Area</td>\n",
       "    </tr>\n",
       "    <tr>\n",
       "      <th>3</th>\n",
       "      <td>Andhra Pradesh</td>\n",
       "      <td>Srikakulam</td>\n",
       "      <td>Pathapatnam</td>\n",
       "      <td>2019</td>\n",
       "      <td>8</td>\n",
       "      <td>1</td>\n",
       "      <td>3</td>\n",
       "      <td>3</td>\n",
       "      <td>0</td>\n",
       "      <td>2</td>\n",
       "      <td>...</td>\n",
       "      <td>0</td>\n",
       "      <td>0</td>\n",
       "      <td>15</td>\n",
       "      <td>10</td>\n",
       "      <td>0</td>\n",
       "      <td>0</td>\n",
       "      <td>0</td>\n",
       "      <td>0</td>\n",
       "      <td>99</td>\n",
       "      <td>Less Crime Prone Area</td>\n",
       "    </tr>\n",
       "    <tr>\n",
       "      <th>4</th>\n",
       "      <td>Andhra Pradesh</td>\n",
       "      <td>Srikakulam</td>\n",
       "      <td>Srikakulam</td>\n",
       "      <td>2019</td>\n",
       "      <td>53</td>\n",
       "      <td>8</td>\n",
       "      <td>22</td>\n",
       "      <td>28</td>\n",
       "      <td>4</td>\n",
       "      <td>33</td>\n",
       "      <td>...</td>\n",
       "      <td>5</td>\n",
       "      <td>4</td>\n",
       "      <td>77</td>\n",
       "      <td>44</td>\n",
       "      <td>7</td>\n",
       "      <td>11</td>\n",
       "      <td>7</td>\n",
       "      <td>6</td>\n",
       "      <td>593</td>\n",
       "      <td>Moderate Crime Prone Area</td>\n",
       "    </tr>\n",
       "  </tbody>\n",
       "</table>\n",
       "<p>5 rows × 37 columns</p>\n",
       "</div>"
      ],
      "text/plain": [
       "       States/UTs    District Constituency  Year  Murder  Culpable Homicide  \\\n",
       "0  Andhra Pradesh  Srikakulam  Ichchapuram  2019      37                  2   \n",
       "1  Andhra Pradesh  Srikakulam       Palasa  2019      42                  6   \n",
       "2  Andhra Pradesh  Srikakulam      Tekkali  2019      13                  0   \n",
       "3  Andhra Pradesh  Srikakulam  Pathapatnam  2019       8                  1   \n",
       "4  Andhra Pradesh  Srikakulam   Srikakulam  2019      53                  8   \n",
       "\n",
       "   Rape  Kidnapping & Abduction  Dacoity  Robbery  ...  HumanTrafficking  \\\n",
       "0    12                      20        0       11  ...                 1   \n",
       "1    19                      23        3       16  ...                 2   \n",
       "2     7                       5        0        3  ...                 0   \n",
       "3     3                       3        0        2  ...                 0   \n",
       "4    22                      28        4       33  ...                 5   \n",
       "\n",
       "   Unnatural Offence  Other IPC crimes  Total crimes against SCs  Voyeurism  \\\n",
       "0                  0                56                        14          0   \n",
       "1                  0                68                        35          1   \n",
       "2                  1                42                        29          4   \n",
       "3                  0                15                        10          0   \n",
       "4                  4                77                        44          7   \n",
       "\n",
       "   Stalking  Abetment of Suicides of Women  Immoral Traffic Prevention Act  \\\n",
       "0         6                              2                               0   \n",
       "1         9                              6                               3   \n",
       "2         0                              0                               1   \n",
       "3         0                              0                               0   \n",
       "4        11                              7                               6   \n",
       "\n",
       "   Total_Count           Result_Threshold  \n",
       "0          324      Less Crime Prone Area  \n",
       "1          401  Moderate Crime Prone Area  \n",
       "2          329      Less Crime Prone Area  \n",
       "3           99      Less Crime Prone Area  \n",
       "4          593  Moderate Crime Prone Area  \n",
       "\n",
       "[5 rows x 37 columns]"
      ]
     },
     "execution_count": 11,
     "metadata": {},
     "output_type": "execute_result"
    }
   ],
   "source": [
    "dataset.head()"
   ]
  },
  {
   "cell_type": "code",
   "execution_count": 12,
   "id": "e20e0bab",
   "metadata": {},
   "outputs": [],
   "source": [
    "# Using LabelEncoder function, all the string variables are converted into numbers so that the ML model can process it.\n",
    "from sklearn.preprocessing import LabelEncoder\n",
    "lab_enc = LabelEncoder()\n",
    "data['States/UTs'] = lab_enc.fit_transform(dataset['States/UTs'])\n",
    "data['District'] = lab_enc.fit_transform(dataset['District'])\n",
    "data['Constituency'] = lab_enc.fit_transform(dataset['Constituency'])"
   ]
  },
  {
   "cell_type": "code",
   "execution_count": 13,
   "id": "4ec0d582",
   "metadata": {
    "scrolled": true
   },
   "outputs": [
    {
     "data": {
      "text/html": [
       "<div>\n",
       "<style scoped>\n",
       "    .dataframe tbody tr th:only-of-type {\n",
       "        vertical-align: middle;\n",
       "    }\n",
       "\n",
       "    .dataframe tbody tr th {\n",
       "        vertical-align: top;\n",
       "    }\n",
       "\n",
       "    .dataframe thead th {\n",
       "        text-align: right;\n",
       "    }\n",
       "</style>\n",
       "<table border=\"1\" class=\"dataframe\">\n",
       "  <thead>\n",
       "    <tr style=\"text-align: right;\">\n",
       "      <th></th>\n",
       "      <th>States/UTs</th>\n",
       "      <th>District</th>\n",
       "      <th>Constituency</th>\n",
       "      <th>Year</th>\n",
       "      <th>Murder</th>\n",
       "      <th>Culpable Homicide</th>\n",
       "      <th>Rape</th>\n",
       "      <th>Kidnapping &amp; Abduction</th>\n",
       "      <th>Dacoity</th>\n",
       "      <th>Robbery</th>\n",
       "      <th>...</th>\n",
       "      <th>HumanTrafficking</th>\n",
       "      <th>Unnatural Offence</th>\n",
       "      <th>Other IPC crimes</th>\n",
       "      <th>Total crimes against SCs</th>\n",
       "      <th>Voyeurism</th>\n",
       "      <th>Stalking</th>\n",
       "      <th>Abetment of Suicides of Women</th>\n",
       "      <th>Immoral Traffic Prevention Act</th>\n",
       "      <th>Total_Count</th>\n",
       "      <th>Result_Threshold</th>\n",
       "    </tr>\n",
       "  </thead>\n",
       "  <tbody>\n",
       "    <tr>\n",
       "      <th>0</th>\n",
       "      <td>1</td>\n",
       "      <td>638</td>\n",
       "      <td>1436</td>\n",
       "      <td>2019</td>\n",
       "      <td>37</td>\n",
       "      <td>2</td>\n",
       "      <td>12</td>\n",
       "      <td>20</td>\n",
       "      <td>0</td>\n",
       "      <td>11</td>\n",
       "      <td>...</td>\n",
       "      <td>1</td>\n",
       "      <td>0</td>\n",
       "      <td>56</td>\n",
       "      <td>14</td>\n",
       "      <td>0</td>\n",
       "      <td>6</td>\n",
       "      <td>2</td>\n",
       "      <td>0</td>\n",
       "      <td>324</td>\n",
       "      <td>Less Crime Prone Area</td>\n",
       "    </tr>\n",
       "    <tr>\n",
       "      <th>1</th>\n",
       "      <td>1</td>\n",
       "      <td>638</td>\n",
       "      <td>2759</td>\n",
       "      <td>2019</td>\n",
       "      <td>42</td>\n",
       "      <td>6</td>\n",
       "      <td>19</td>\n",
       "      <td>23</td>\n",
       "      <td>3</td>\n",
       "      <td>16</td>\n",
       "      <td>...</td>\n",
       "      <td>2</td>\n",
       "      <td>0</td>\n",
       "      <td>68</td>\n",
       "      <td>35</td>\n",
       "      <td>1</td>\n",
       "      <td>9</td>\n",
       "      <td>6</td>\n",
       "      <td>3</td>\n",
       "      <td>401</td>\n",
       "      <td>Moderate Crime Prone Area</td>\n",
       "    </tr>\n",
       "    <tr>\n",
       "      <th>2</th>\n",
       "      <td>1</td>\n",
       "      <td>638</td>\n",
       "      <td>3656</td>\n",
       "      <td>2019</td>\n",
       "      <td>13</td>\n",
       "      <td>0</td>\n",
       "      <td>7</td>\n",
       "      <td>5</td>\n",
       "      <td>0</td>\n",
       "      <td>3</td>\n",
       "      <td>...</td>\n",
       "      <td>0</td>\n",
       "      <td>1</td>\n",
       "      <td>42</td>\n",
       "      <td>29</td>\n",
       "      <td>4</td>\n",
       "      <td>0</td>\n",
       "      <td>0</td>\n",
       "      <td>1</td>\n",
       "      <td>329</td>\n",
       "      <td>Less Crime Prone Area</td>\n",
       "    </tr>\n",
       "  </tbody>\n",
       "</table>\n",
       "<p>3 rows × 37 columns</p>\n",
       "</div>"
      ],
      "text/plain": [
       "   States/UTs  District  Constituency  Year  Murder  Culpable Homicide  Rape  \\\n",
       "0           1       638          1436  2019      37                  2    12   \n",
       "1           1       638          2759  2019      42                  6    19   \n",
       "2           1       638          3656  2019      13                  0     7   \n",
       "\n",
       "   Kidnapping & Abduction  Dacoity  Robbery  ...  HumanTrafficking  \\\n",
       "0                      20        0       11  ...                 1   \n",
       "1                      23        3       16  ...                 2   \n",
       "2                       5        0        3  ...                 0   \n",
       "\n",
       "   Unnatural Offence  Other IPC crimes  Total crimes against SCs  Voyeurism  \\\n",
       "0                  0                56                        14          0   \n",
       "1                  0                68                        35          1   \n",
       "2                  1                42                        29          4   \n",
       "\n",
       "   Stalking  Abetment of Suicides of Women  Immoral Traffic Prevention Act  \\\n",
       "0         6                              2                               0   \n",
       "1         9                              6                               3   \n",
       "2         0                              0                               1   \n",
       "\n",
       "   Total_Count           Result_Threshold  \n",
       "0          324      Less Crime Prone Area  \n",
       "1          401  Moderate Crime Prone Area  \n",
       "2          329      Less Crime Prone Area  \n",
       "\n",
       "[3 rows x 37 columns]"
      ]
     },
     "execution_count": 13,
     "metadata": {},
     "output_type": "execute_result"
    }
   ],
   "source": [
    "data.head(3)"
   ]
  },
  {
   "cell_type": "code",
   "execution_count": 14,
   "id": "802482cd",
   "metadata": {},
   "outputs": [],
   "source": [
    "# Splitting the dataset into dependent varibale(Y) and independent variable(X).\n",
    "X = data.drop(columns=['Year','Total_Count','Result_Threshold'])\n",
    "Y = data['Result_Threshold']"
   ]
  },
  {
   "cell_type": "code",
   "execution_count": 15,
   "id": "37f5e4ff",
   "metadata": {},
   "outputs": [],
   "source": [
    "# The independent variables are normalized using StandardScaler function.\n",
    "from sklearn.preprocessing import StandardScaler\n",
    "scaler = StandardScaler()\n",
    "scaled_x = scaler.fit_transform(X)"
   ]
  },
  {
   "cell_type": "code",
   "execution_count": 16,
   "id": "c7ddda7f",
   "metadata": {},
   "outputs": [],
   "source": [
    "# With the help of sklearn library, the dataset is divided into train data and test data.\n",
    "from sklearn.model_selection import train_test_split as tts\n",
    "x_train,x_test,y_train,y_test = tts(X,Y,test_size=0.3,random_state=42)"
   ]
  },
  {
   "cell_type": "code",
   "execution_count": 17,
   "id": "22c66c7a",
   "metadata": {},
   "outputs": [
    {
     "name": "stdout",
     "output_type": "stream",
     "text": [
      "(2888, 34) (1239, 34) (2888,) (1239,)\n"
     ]
    }
   ],
   "source": [
    "print(x_train.shape,x_test.shape,y_train.shape,y_test.shape)"
   ]
  },
  {
   "cell_type": "markdown",
   "id": "fd74e502",
   "metadata": {},
   "source": [
    "### The next step is to choose the best ML model as per the problem statement. As our problem statement comes under classification supervised learning, we can use various classification algorithms such as 'Logistic Regression', 'KNN', 'Decision Tree', 'Random Forest', 'Support Vector Machine', 'Naive Bayes'."
   ]
  },
  {
   "cell_type": "markdown",
   "id": "9f76158b",
   "metadata": {},
   "source": [
    "# Logistic Regression"
   ]
  },
  {
   "cell_type": "code",
   "execution_count": 18,
   "id": "edf4878d",
   "metadata": {},
   "outputs": [],
   "source": [
    "# Importing the Logistic Regression ML model and some of the parameters of the model are changed depending upon the accuracy.\n",
    "from sklearn.linear_model import LogisticRegression as LR\n",
    "classifier = LR(class_weight='balanced',max_iter=1200)"
   ]
  },
  {
   "cell_type": "code",
   "execution_count": 19,
   "id": "7bfc1895",
   "metadata": {},
   "outputs": [
    {
     "data": {
      "text/plain": [
       "LogisticRegression(class_weight='balanced', max_iter=1200)"
      ]
     },
     "execution_count": 19,
     "metadata": {},
     "output_type": "execute_result"
    }
   ],
   "source": [
    "classifier.fit(x_train,y_train)"
   ]
  },
  {
   "cell_type": "code",
   "execution_count": 20,
   "id": "1df5111d",
   "metadata": {},
   "outputs": [],
   "source": [
    "predicted_values = classifier.predict(x_test)"
   ]
  },
  {
   "cell_type": "code",
   "execution_count": 21,
   "id": "0e588bae",
   "metadata": {},
   "outputs": [
    {
     "data": {
      "text/plain": [
       "array(['High Crime Prone Area', 'Moderate Crime Prone Area',\n",
       "       'High Crime Prone Area', 'Moderate Crime Prone Area',\n",
       "       'Moderate Crime Prone Area', 'Moderate Crime Prone Area',\n",
       "       'Moderate Crime Prone Area', 'Moderate Crime Prone Area',\n",
       "       'High Crime Prone Area', 'Moderate Crime Prone Area',\n",
       "       'Moderate Crime Prone Area'], dtype=object)"
      ]
     },
     "execution_count": 21,
     "metadata": {},
     "output_type": "execute_result"
    }
   ],
   "source": [
    "# Displaying the predicted output for the first 10 rows of the test data.\n",
    "predicted_values[0:11]"
   ]
  },
  {
   "cell_type": "code",
   "execution_count": 22,
   "id": "b82cf3db",
   "metadata": {
    "scrolled": true
   },
   "outputs": [
    {
     "name": "stdout",
     "output_type": "stream",
     "text": [
      "['Moderate Crime Prone Area', 'Moderate Crime Prone Area', 'High Crime Prone Area', 'Moderate Crime Prone Area', 'Moderate Crime Prone Area', 'Moderate Crime Prone Area', 'Moderate Crime Prone Area', 'Moderate Crime Prone Area', 'Moderate Crime Prone Area', 'High Crime Prone Area', 'Moderate Crime Prone Area']\n"
     ]
    }
   ],
   "source": [
    "# Displaying the original output for the first 10 rows of the test data. We can observe that some of the values are wrong.\n",
    "print(list(y_test[0:11]))"
   ]
  },
  {
   "cell_type": "code",
   "execution_count": 23,
   "id": "54413086",
   "metadata": {},
   "outputs": [
    {
     "data": {
      "text/plain": [
       "0.8224374495560937"
      ]
     },
     "execution_count": 23,
     "metadata": {},
     "output_type": "execute_result"
    }
   ],
   "source": [
    "# The final accuracy of the model can be obtained using sklearn library and it came around 82.2%.\n",
    "accuracy_score(predicted_values,y_test)"
   ]
  },
  {
   "cell_type": "markdown",
   "id": "78d823ba",
   "metadata": {},
   "source": [
    "# Decision Tree"
   ]
  },
  {
   "cell_type": "code",
   "execution_count": 24,
   "id": "cfe3eb9b",
   "metadata": {},
   "outputs": [],
   "source": [
    "# The next algorithm is Decision Tree and the model is imported. \n",
    "from sklearn.tree import DecisionTreeClassifier as DTC\n",
    "classifier = DTC(criterion='entropy', class_weight='balanced', min_samples_split=3, min_samples_leaf=3, max_depth=3000)"
   ]
  },
  {
   "cell_type": "code",
   "execution_count": 25,
   "id": "4b2ea1f2",
   "metadata": {},
   "outputs": [
    {
     "data": {
      "text/plain": [
       "DecisionTreeClassifier(class_weight='balanced', criterion='entropy',\n",
       "                       max_depth=3000, min_samples_leaf=3, min_samples_split=3)"
      ]
     },
     "execution_count": 25,
     "metadata": {},
     "output_type": "execute_result"
    }
   ],
   "source": [
    "classifier.fit(x_train, y_train)"
   ]
  },
  {
   "cell_type": "code",
   "execution_count": 26,
   "id": "cca10a70",
   "metadata": {},
   "outputs": [],
   "source": [
    "predicted_values = classifier.predict(x_test)"
   ]
  },
  {
   "cell_type": "code",
   "execution_count": 27,
   "id": "daf151a7",
   "metadata": {},
   "outputs": [
    {
     "name": "stdout",
     "output_type": "stream",
     "text": [
      "                           precision    recall  f1-score   support\n",
      "\n",
      "    High Crime Prone Area       0.95      0.98      0.96       989\n",
      "    Less Crime Prone Area       0.92      1.00      0.96       218\n",
      "Moderate Crime Prone Area       0.99      0.96      0.97      1681\n",
      "\n",
      "                 accuracy                           0.97      2888\n",
      "                macro avg       0.95      0.98      0.96      2888\n",
      "             weighted avg       0.97      0.97      0.97      2888\n",
      "\n"
     ]
    }
   ],
   "source": [
    "# Classification report for Train Data. This shows how good the model is trained with the training data.\n",
    "\n",
    "predicted_values = classifier.predict(x_train)\n",
    "print(classification_report(y_train, predicted_values))"
   ]
  },
  {
   "cell_type": "code",
   "execution_count": 28,
   "id": "cedf4dfd",
   "metadata": {},
   "outputs": [
    {
     "name": "stdout",
     "output_type": "stream",
     "text": [
      "                           precision    recall  f1-score   support\n",
      "\n",
      "    High Crime Prone Area       0.70      0.69      0.69       446\n",
      "    Less Crime Prone Area       0.71      0.87      0.78        82\n",
      "Moderate Crime Prone Area       0.79      0.78      0.78       711\n",
      "\n",
      "                 accuracy                           0.75      1239\n",
      "                macro avg       0.73      0.78      0.75      1239\n",
      "             weighted avg       0.75      0.75      0.75      1239\n",
      "\n"
     ]
    }
   ],
   "source": [
    "# Classification report for Test Data. This shows the test accuracy of the model when tested with the test data.\n",
    "\n",
    "predicted_values = classifier.predict(x_test)\n",
    "print(classification_report(y_test, predicted_values))"
   ]
  },
  {
   "cell_type": "code",
   "execution_count": 29,
   "id": "b74b2a9c",
   "metadata": {},
   "outputs": [
    {
     "data": {
      "text/plain": [
       "0.7506053268765133"
      ]
     },
     "execution_count": 29,
     "metadata": {},
     "output_type": "execute_result"
    }
   ],
   "source": [
    "# The accuracy of the Decision Tree model came around 75% which was poor when compared with the Logistic Regression model.\n",
    "accuracy_score(predicted_values,y_test)"
   ]
  },
  {
   "cell_type": "markdown",
   "id": "d21c9316",
   "metadata": {},
   "source": [
    "# Random Forest"
   ]
  },
  {
   "cell_type": "code",
   "execution_count": 30,
   "id": "68cc1f13",
   "metadata": {},
   "outputs": [],
   "source": [
    "# Random Forest model is imported and some of the parameters are pruned.\n",
    "from sklearn.ensemble import RandomForestClassifier as RFC\n",
    "classifier = RFC(class_weight='balanced',n_estimators=150,criterion='entropy',min_samples_split=3,min_samples_leaf=3)"
   ]
  },
  {
   "cell_type": "code",
   "execution_count": 31,
   "id": "a2334a63",
   "metadata": {},
   "outputs": [
    {
     "data": {
      "text/plain": [
       "RandomForestClassifier(class_weight='balanced', criterion='entropy',\n",
       "                       min_samples_leaf=3, min_samples_split=3,\n",
       "                       n_estimators=150)"
      ]
     },
     "execution_count": 31,
     "metadata": {},
     "output_type": "execute_result"
    }
   ],
   "source": [
    "classifier.fit(x_train,y_train)"
   ]
  },
  {
   "cell_type": "code",
   "execution_count": 32,
   "id": "cae237a1",
   "metadata": {},
   "outputs": [
    {
     "name": "stdout",
     "output_type": "stream",
     "text": [
      "                           precision    recall  f1-score   support\n",
      "\n",
      "    High Crime Prone Area       1.00      1.00      1.00       989\n",
      "    Less Crime Prone Area       1.00      1.00      1.00       218\n",
      "Moderate Crime Prone Area       1.00      1.00      1.00      1681\n",
      "\n",
      "                 accuracy                           1.00      2888\n",
      "                macro avg       1.00      1.00      1.00      2888\n",
      "             weighted avg       1.00      1.00      1.00      2888\n",
      "\n"
     ]
    }
   ],
   "source": [
    "# Classification report for Train Data. We can observe that the model overfit the train data.\n",
    "\n",
    "predicted_values = classifier.predict(x_train)\n",
    "print(classification_report(y_train, predicted_values))"
   ]
  },
  {
   "cell_type": "code",
   "execution_count": 33,
   "id": "d3820dc7",
   "metadata": {},
   "outputs": [
    {
     "name": "stdout",
     "output_type": "stream",
     "text": [
      "                           precision    recall  f1-score   support\n",
      "\n",
      "    High Crime Prone Area       0.93      0.83      0.88       446\n",
      "    Less Crime Prone Area       0.94      0.88      0.91        82\n",
      "Moderate Crime Prone Area       0.89      0.95      0.92       711\n",
      "\n",
      "                 accuracy                           0.90      1239\n",
      "                macro avg       0.92      0.89      0.90      1239\n",
      "             weighted avg       0.91      0.90      0.90      1239\n",
      "\n"
     ]
    }
   ],
   "source": [
    "# Classification report for Test Data. \n",
    "\n",
    "predicted_values = classifier.predict(x_test)\n",
    "print(classification_report(y_test, predicted_values))"
   ]
  },
  {
   "cell_type": "code",
   "execution_count": 34,
   "id": "462cd9e7",
   "metadata": {},
   "outputs": [
    {
     "data": {
      "text/plain": [
       "0.9031476997578692"
      ]
     },
     "execution_count": 34,
     "metadata": {},
     "output_type": "execute_result"
    }
   ],
   "source": [
    "# The accuracy of the Random Forest model came around 90.3% which is good compared to the Logistic Regression model.\n",
    "accuracy_score(predicted_values,y_test)"
   ]
  },
  {
   "cell_type": "markdown",
   "id": "9ecf010c",
   "metadata": {},
   "source": [
    "# KNN"
   ]
  },
  {
   "cell_type": "code",
   "execution_count": 35,
   "id": "1f576ecb",
   "metadata": {},
   "outputs": [],
   "source": [
    "# The next algorithm is KNN model.\n",
    "from sklearn.neighbors import KNeighborsClassifier\n",
    "knn = KNeighborsClassifier(n_neighbors=7,weights='uniform',p=1,algorithm='auto')"
   ]
  },
  {
   "cell_type": "code",
   "execution_count": 36,
   "id": "d29aa099",
   "metadata": {},
   "outputs": [
    {
     "data": {
      "text/plain": [
       "KNeighborsClassifier(n_neighbors=7, p=1)"
      ]
     },
     "execution_count": 36,
     "metadata": {},
     "output_type": "execute_result"
    }
   ],
   "source": [
    "knn.fit(x_train,y_train)"
   ]
  },
  {
   "cell_type": "code",
   "execution_count": 37,
   "id": "114d44de",
   "metadata": {},
   "outputs": [],
   "source": [
    "predicted_values = knn.predict(x_test)"
   ]
  },
  {
   "cell_type": "code",
   "execution_count": 38,
   "id": "638b2b3b",
   "metadata": {},
   "outputs": [
    {
     "data": {
      "text/plain": [
       "0.7401129943502824"
      ]
     },
     "execution_count": 38,
     "metadata": {},
     "output_type": "execute_result"
    }
   ],
   "source": [
    "# The accuracy of the KNN model came around 74%.\n",
    "accuracy_score(predicted_values,y_test)"
   ]
  },
  {
   "cell_type": "markdown",
   "id": "62e1c1d2",
   "metadata": {},
   "source": [
    "# Support Vector Machine"
   ]
  },
  {
   "cell_type": "code",
   "execution_count": 39,
   "id": "e31beabf",
   "metadata": {},
   "outputs": [],
   "source": [
    "# The next model is Support Vector Machine and the model is imported from the corresponding library.\n",
    "from sklearn.svm import SVC\n",
    "classifier = SVC(kernel='linear',class_weight='balanced')"
   ]
  },
  {
   "cell_type": "code",
   "execution_count": 40,
   "id": "b9be88f7",
   "metadata": {},
   "outputs": [
    {
     "data": {
      "text/plain": [
       "SVC(class_weight='balanced', kernel='linear')"
      ]
     },
     "execution_count": 40,
     "metadata": {},
     "output_type": "execute_result"
    }
   ],
   "source": [
    "classifier.fit(x_train,y_train)"
   ]
  },
  {
   "cell_type": "code",
   "execution_count": 41,
   "id": "2bd2764b",
   "metadata": {},
   "outputs": [],
   "source": [
    "predicted_values = classifier.predict(x_test)"
   ]
  },
  {
   "cell_type": "code",
   "execution_count": 42,
   "id": "522bf9b4",
   "metadata": {},
   "outputs": [],
   "source": [
    "predicted_values = classifier.predict(x_test)"
   ]
  },
  {
   "cell_type": "code",
   "execution_count": 43,
   "id": "59c11b55",
   "metadata": {},
   "outputs": [
    {
     "data": {
      "text/plain": [
       "0.9870863599677159"
      ]
     },
     "execution_count": 43,
     "metadata": {},
     "output_type": "execute_result"
    }
   ],
   "source": [
    "# The accuracy of the SVM model came around 98.7% which is the best compared to the previous model.\n",
    "accuracy_score(predicted_values,y_test)"
   ]
  },
  {
   "cell_type": "code",
   "execution_count": 44,
   "id": "b1bff60d",
   "metadata": {},
   "outputs": [
    {
     "data": {
      "text/plain": [
       "array(['Moderate Crime Prone Area', 'Moderate Crime Prone Area',\n",
       "       'High Crime Prone Area', 'Moderate Crime Prone Area',\n",
       "       'Moderate Crime Prone Area', 'Moderate Crime Prone Area',\n",
       "       'Moderate Crime Prone Area', 'Moderate Crime Prone Area',\n",
       "       'Moderate Crime Prone Area', 'High Crime Prone Area',\n",
       "       'Moderate Crime Prone Area'], dtype=object)"
      ]
     },
     "execution_count": 44,
     "metadata": {},
     "output_type": "execute_result"
    }
   ],
   "source": [
    "# The predicted output of the first 10 rows are displayed.\n",
    "predicted_values[0:11]"
   ]
  },
  {
   "cell_type": "code",
   "execution_count": 45,
   "id": "0818ccc1",
   "metadata": {},
   "outputs": [
    {
     "name": "stdout",
     "output_type": "stream",
     "text": [
      "['Moderate Crime Prone Area', 'Moderate Crime Prone Area', 'High Crime Prone Area', 'Moderate Crime Prone Area', 'Moderate Crime Prone Area', 'Moderate Crime Prone Area', 'Moderate Crime Prone Area', 'Moderate Crime Prone Area', 'Moderate Crime Prone Area', 'High Crime Prone Area', 'Moderate Crime Prone Area']\n"
     ]
    }
   ],
   "source": [
    "# The actual output of the first 10 rows are displayed. We can observe that almost all the values are correct.\n",
    "print(list(y_test[0:11]))"
   ]
  },
  {
   "cell_type": "markdown",
   "id": "fcf2de59",
   "metadata": {},
   "source": [
    "# Naive Bayes"
   ]
  },
  {
   "cell_type": "code",
   "execution_count": 46,
   "id": "4b008540",
   "metadata": {
    "scrolled": true
   },
   "outputs": [
    {
     "data": {
      "text/plain": [
       "GaussianNB()"
      ]
     },
     "execution_count": 46,
     "metadata": {},
     "output_type": "execute_result"
    }
   ],
   "source": [
    "# The next algorithm is Naive Bayes model.\n",
    "from sklearn.naive_bayes import GaussianNB\n",
    "classifier = GaussianNB()\n",
    "classifier.fit(x_train, y_train)"
   ]
  },
  {
   "cell_type": "code",
   "execution_count": 47,
   "id": "3acacfa4",
   "metadata": {},
   "outputs": [],
   "source": [
    "predicted_values = classifier.predict(x_test)"
   ]
  },
  {
   "cell_type": "code",
   "execution_count": 48,
   "id": "d39eb24a",
   "metadata": {},
   "outputs": [
    {
     "data": {
      "text/plain": [
       "0.8071025020177562"
      ]
     },
     "execution_count": 48,
     "metadata": {},
     "output_type": "execute_result"
    }
   ],
   "source": [
    "# The accuracy of the Naive Bayes model came around 80.7%.\n",
    "accuracy_score(predicted_values,y_test)"
   ]
  },
  {
   "cell_type": "code",
   "execution_count": null,
   "id": "8e630c12",
   "metadata": {},
   "outputs": [],
   "source": []
  },
  {
   "cell_type": "markdown",
   "id": "70e1755f",
   "metadata": {},
   "source": [
    "# INFERENCE\n",
    "## Support Vector Machine = 98.7%\n",
    "## Random Forest = 90.3%\n",
    "## Logistic Regression = 82.2%\n",
    "## Naive Bayes = 80.7%\n",
    "## Decision Tree = 75%\n",
    "## KNN = 74% "
   ]
  },
  {
   "cell_type": "code",
   "execution_count": null,
   "id": "e1063457",
   "metadata": {},
   "outputs": [],
   "source": []
  }
 ],
 "metadata": {
  "kernelspec": {
   "display_name": "Python 3 (ipykernel)",
   "language": "python",
   "name": "python3"
  },
  "language_info": {
   "codemirror_mode": {
    "name": "ipython",
    "version": 3
   },
   "file_extension": ".py",
   "mimetype": "text/x-python",
   "name": "python",
   "nbconvert_exporter": "python",
   "pygments_lexer": "ipython3",
   "version": "3.9.7"
  }
 },
 "nbformat": 4,
 "nbformat_minor": 5
}
